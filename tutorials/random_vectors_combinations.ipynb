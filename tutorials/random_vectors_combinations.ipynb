{
 "cells": [
  {
   "cell_type": "markdown",
   "id": "4319b184-e18e-4e11-89ab-81bddafa0421",
   "metadata": {},
   "source": [
    "# RANDOM VECTORS - LINEAR COMBINATIONS\n",
    "\n",
    "## TUTORIAL\n",
    "\n",
    "For vectors $\\vec X = (X_0, X_1, \\cdots)$ and $\\vec Y = (Y_0, Y_1, \\ldots)$, a linear combination $\\vec Z = a\\vec X + b\\vec Y$ for scalars $a, b$ has components $Z_i = aX_i + bY_i$. Recall that each component $X_i, Y_i$ are random variables, and so therefore is $Z_i$. Note importantly that $Z_i$ is a sum of *independent* random variables $X_i, Y_i$. When forming linear conbinations in this way, we necessarily assume $\\vec X$ and $\\vec Y$ are independent.\n",
    "\n",
    "**Remark.** *More generally, $a$ and $b$ can be random variables. In this case, for all $i$ they are independent of $X_i$ and $Y_i$ respectively*\n",
    "\n",
    "Much like the `RandVar` class, the `RandVec` class is appropriate when forming linear combinations of random vectors. \n",
    "\n",
    "### LIBRARY IMPORTS\n",
    "\n",
    "Below are all the library imports relevantv for this tutorial."
   ]
  },
  {
   "cell_type": "code",
   "execution_count": 1,
   "id": "e443a2db-a7af-4b6c-87bc-81b269fbbb18",
   "metadata": {},
   "outputs": [],
   "source": [
    "from pystochastica.discrete.vectors import RandVec as rvec\n",
    "from pystochastica.discrete.core import JointDistribution as jd\n",
    "from pystochastica.discrete.utils import generate_jdist_random\n",
    "\n",
    "from pystochastica.discrete.variables import RandVar as rvar\n",
    "from pystochastica.discrete.core import JointDistribution as jd\n",
    "from pystochastica.discrete.utils import rvdict_to_init\n",
    "from pystochastica.discrete.utils import generate_jdist\n",
    "\n",
    "from fractions import Fraction"
   ]
  },
  {
   "cell_type": "markdown",
   "id": "8e5fe678-2e1e-4d25-a1ed-cc522c646894",
   "metadata": {},
   "source": [
    "### SCALAR COMBINATION\n",
    "\n",
    "We initialise two vectors through the utility function `generate_jdist_random` and form a sample linear combination with scalars `a` and `b` as follows."
   ]
  },
  {
   "cell_type": "code",
   "execution_count": 2,
   "id": "c0c0af1f-828a-4ebc-b9c6-7d45cc896c08",
   "metadata": {},
   "outputs": [
    {
     "data": {
      "text/plain": [
       "(array([-294.61605889,  504.62986124]),\n",
       " array([[3.58826015e+04, 5.82076609e-11],\n",
       "        [5.82076609e-11, 1.73605805e+04]]))"
      ]
     },
     "execution_count": 2,
     "metadata": {},
     "output_type": "execute_result"
    }
   ],
   "source": [
    "X_vec = rvec(pspace=jd(pspace=generate_jdist_random(dimension=2)).pspace)\n",
    "Y_vec = rvec(pspace=jd(pspace=generate_jdist_random(dimension=2)).pspace)\n",
    "\n",
    "a = 12.5\n",
    "b = -3\n",
    "\n",
    "Z_vec = a*X_vec + b*Y_vec\n",
    "Z_vec.E, Z_vec.V"
   ]
  },
  {
   "cell_type": "markdown",
   "id": "bf0cff3b-0932-40d5-86e5-f5963e0985bc",
   "metadata": {},
   "source": [
    "### FUNCTIONAL COMBINATION\n",
    "\n",
    "In addition to scalars `a` and `b` above, random vectors can also be multiplied by random variables. If $\\vec Y = (Y_0, Y_1, \\ldots)$ is a random vector and $X$ is a random variable, then $\\vec Z = X\\vec Y$ is the random variable with components $Z_i = XY_i$. \n",
    "\n",
    "In `pystochastica` this is represented through the ability to multiply `RandVec` objects by `RandVar`, returning another `RandVec` object. We demonstrate a functional combination of `X_vec` and `Y_vec` with random variables `A` and `B` below.\n",
    "\n",
    "**Note.** *The probabilities in the probability spaces for `X_vec` and `Y_vec` are `fraction.Fraction` objects. It is important that the probabiltiies initialising `A` and `B` below are also `fraction.Fraction` objects. Otherwise a `TypeError` error will be raised.*\n"
   ]
  },
  {
   "cell_type": "code",
   "execution_count": 3,
   "id": "b42244a3-b3d7-4530-b930-d9b1a7e4b888",
   "metadata": {},
   "outputs": [
    {
     "data": {
      "text/plain": [
       "array([0.649568  , 2.03817484])"
      ]
     },
     "execution_count": 3,
     "metadata": {},
     "output_type": "execute_result"
    }
   ],
   "source": [
    "A_init = {\n",
    "    'name': 'X', \n",
    "    'pspace': {\n",
    "        '-1': Fraction(37, 100),\n",
    "        '0': Fraction(20, 100),\n",
    "        '1': Fraction(43, 100)\n",
    "    }}\n",
    "A_var = rvar(**rvdict_to_init(A_init))\n",
    "\n",
    "B_init = {\n",
    "    'name': 'Y', \n",
    "    'pspace': {\n",
    "        '-1': Fraction(40, 100),\n",
    "        '1': Fraction(60, 100)\n",
    "    }}\n",
    "B_var = rvar(**rvdict_to_init(B_init))\n",
    "\n",
    "Z2_vec = A_var*X_vec + B_var*Y_vec\n",
    "Z2_vec.E"
   ]
  },
  {
   "cell_type": "markdown",
   "id": "c7aefa4e-4ce4-4284-9b09-a8320ca2ab25",
   "metadata": {},
   "source": [
    "### VECTOR DOT, SUM AND NORM\n",
    "\n",
    "Through the dot product of vectors, we can form its norm-square $\\|\\vec X\\|^2$ and its component sum $|\\vec X| = X\\cdot \\mathbf 1$, for $\\mathbf 1$ an appropriate sized vector of ones. \n",
    "\n",
    "For `RandVec` objects the `@` symbol, defined through `__matmul__`, returns the dot product. This means we can readily form random variables through the norm and vector sum on random vectors (c.f., `ndarray` objects in the Python `numpy` library).\n",
    "\n",
    "For `Z_vec` above, its norm and vector sum are as below, along with their expectation ad variance:"
   ]
  },
  {
   "cell_type": "code",
   "execution_count": 4,
   "id": "daf86905-d793-4362-b04e-8bfeb4fe0984",
   "metadata": {},
   "outputs": [
    {
     "name": "stdout",
     "output_type": "stream",
     "text": [
      "Z_vec_norm.E = 341449.9190142199\tZ_vec_norm.V = 16659860279.95668\n",
      "Z_vec_sum.E = 210.0138023459032\tZ_vec_sum.V = 53243.182021923974\n"
     ]
    }
   ],
   "source": [
    "Z_vec_norm = Z_vec @ Z_vec\n",
    "Z_vec_sum = Z_vec.sum()\n",
    "\n",
    "print(f\"{Z_vec_norm.E = }\\t{Z_vec_norm.V = }\\n{Z_vec_sum.E = }\\t{Z_vec_sum.V = }\")"
   ]
  },
  {
   "cell_type": "markdown",
   "id": "103ad2d1-d506-4c2a-93d2-c6f3a008a4ba",
   "metadata": {},
   "source": [
    "More generally, the dot product of any two random vectors of the same dimension can be formed to return a random variable. \n",
    "\n",
    "For `Z_vec` and `Z2_vec` from above, the expectation and variance of their dot product is as follows."
   ]
  },
  {
   "cell_type": "code",
   "execution_count": 5,
   "id": "a7f8ba42-f9e9-4872-a316-cf4246df2df0",
   "metadata": {},
   "outputs": [
    {
     "name": "stdout",
     "output_type": "stream",
     "text": [
      "Z_Z2.E = 837.1507188544149\tZ_Z2.V = 653646602.7543957\n"
     ]
    }
   ],
   "source": [
    "Z_Z2 = Z_vec @ Z2_vec\n",
    "\n",
    "print(f\"{Z_Z2.E = }\\t{Z_Z2.V = }\")"
   ]
  }
 ],
 "metadata": {
  "kernelspec": {
   "display_name": ".vpystochastica",
   "language": "python",
   "name": ".vpystochastica"
  },
  "language_info": {
   "codemirror_mode": {
    "name": "ipython",
    "version": 3
   },
   "file_extension": ".py",
   "mimetype": "text/x-python",
   "name": "python",
   "nbconvert_exporter": "python",
   "pygments_lexer": "ipython3",
   "version": "3.11.7"
  }
 },
 "nbformat": 4,
 "nbformat_minor": 5
}
