


from pystochastica.discrete.variables import RandVar as rv
from pystochastica.discrete.samples import Sample as smp
from pystochastica.discrete.utils import rvdict_to_init
import sympy as sp





X_name = sp.Symbol('X')
X_pspace: dict = {
    smp(name=X_name, value=-2): 0.1,
    smp(name=X_name, value=-1): 0.3,
    smp(name=X_name, value=0): 0.2,
    smp(name=X_name, value=1): 0.25,
    smp(name=X_name, value=2): 0.15
}

X = rv(name=X_name, pspace=X_pspace)





X_init = {
    'name': 'X', 
    'pspace': {
        '-2': 0.1,
        '-1': 0.3,
        '0': 0.2,
        '1': 0.25,
        '2': 0.15
}}
X = rv(**rvdict_to_init(X_init))





X.E, X.V





X.E / (X.V)**(1/2)





X.Prob('!= 0')





X.generate(iterations=10)





X.pdf(iterations=500, FIGSIZE=(5, 3), plt_kwargs = {'width': 0.3, 'color': 'g'})
X.cdf(FIGSIZE=(5, 3), plt_kwargs = {'color': 'y'})



