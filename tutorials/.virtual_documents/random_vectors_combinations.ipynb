


from pystochastica.discrete.vectors import RandVec as rvec
from pystochastica.discrete.core import JointDistribution as jd
from pystochastica.discrete.utils import generate_jdist_random

from pystochastica.discrete.variables import RandVar as rvar
from pystochastica.discrete.core import JointDistribution as jd
from pystochastica.discrete.utils import rvdict_to_init
from pystochastica.discrete.utils import generate_jdist

from fractions import Fraction





X_vec = rvec(pspace=jd(pspace=generate_jdist_random(dimension=2)).pspace)
Y_vec = rvec(pspace=jd(pspace=generate_jdist_random(dimension=2)).pspace)

a = 12.5
b = -3

Z_vec = a*X_vec + b*Y_vec
Z_vec.E, Z_vec.V





A_init = {
    'name': 'X', 
    'pspace': {
        '-1': Fraction(37, 100),
        '0': Fraction(20, 100),
        '1': Fraction(43, 100)
    }}
A_var = rvar(**rvdict_to_init(A_init))

B_init = {
    'name': 'Y', 
    'pspace': {
        '-1': Fraction(40, 100),
        '1': Fraction(60, 100)
    }}
B_var = rvar(**rvdict_to_init(B_init))

Z2_vec = A_var*X_vec + B_var*Y_vec
Z2_vec.E





Z_vec_norm = Z_vec @ Z_vec
Z_vec_sum = Z_vec.sum()

print(f"{Z_vec_norm.E = }\t{Z_vec_norm.V = }\n{Z_vec_sum.E = }\t{Z_vec_sum.V = }")





Z_Z2 = Z_vec @ Z2_vec

print(f"{Z_Z2.E = }\t{Z_Z2.V = }")



