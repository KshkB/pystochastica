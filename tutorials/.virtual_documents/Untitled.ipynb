


from pystochastica.discrete.dsp import RandWalk





rw = RandWalk(time_steps=50, p=0.65)





rw.plt()





rw.plt_walk(steps=100)





rw2 = RandWalk(time_steps=7, p=0.65)
rw2.plt_walks(steps=100)



