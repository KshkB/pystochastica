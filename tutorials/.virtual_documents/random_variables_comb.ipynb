


from pystochastica.discrete.variables import RandVar as rv
from pystochastica.discrete.utils import rvdict_to_init





X_init = {
    'name': 'X',
    'pspace': {
        '-1': 0.35,
        '1': 0.65
    }}
X = rv(**rvdict_to_init(X_init))

Y_init = {
    'name': 'Y',
    'pspace': {
         '-1.5': 0.2,
        '0': 0.5,
        '1.5': 0.3
    }}
Y = rv(**rvdict_to_init(Y_init))

Z_init = {
    'name': 'Z',
    'pspace': {
        '0': 0.15,
        '1.5': 0.33,
        '2': 0.22,
        '2.5': 0.2,
        '3': 0.1
    }}
Z = rv(**rvdict_to_init(Z_init))





U = -X + 5*Y -2.5*Z

U.E, U.V, U.Prob('>=1.5')





X - X





X2_init = {
    'name': 'X2', 
    'pspace': {
        '-1': 0.35, 
        '1': 0.65
    }}
X2 = rv(**rvdict_to_init(X2_init))

(X - X2).E, (X - X2).V





NONLINEAR = X**2 + Y**2 - Z**2
expectation = NONLINEAR.E
variance = NONLINEAR.V
probability_example = NONLINEAR.Prob('>= 1.5')

print(f"{expectation = }\t{variance = }\t{probability_example = }")





NONLINEAR.generate(5)





NONLINEAR.pdf(iterations=515, FIGSIZE=(8, 5), plt_kwargs = {'color': 'g', 'width': 0.8}, plt_methods = {'set_xticklabels': {'rotation': 45}})
NONLINEAR.cdf(FIGSIZE=(8, 5), plt_methods = {'set_xticklabels': {'rotation': 45}})



