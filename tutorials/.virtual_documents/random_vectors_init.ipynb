


from pystochastica.discrete.utils import rvdict_to_init
from pystochastica.discrete.variables import RandVar as rvar
from pystochastica.discrete.vectors import RandVec as rvec
from pystochastica.discrete.core import JointDistribution as jd
from pystochastica.discrete.utils import generate_jdist, generate_jdist_random





# initialise random variables through RandVar

X_init = {
    'name': 'X', 
    'pspace': {
        '-1': 0.37,
        '0': 0.2,
        '1': 0.43
    }}
X = rvar(**rvdict_to_init(X_init))

Y_init = {
    'name': 'Y', 
    'pspace': {
        '-1': 0.4,
        '1': 0.6
    }}
Y = rvar(**rvdict_to_init(Y_init))

jd_XY = jd(pspace=generate_jdist(X, Y))
print(jd_XY)





jd_rand = jd(pspace=generate_jdist_random())
print(jd_rand)





for marg in jd_rand.margs:
    print(m)
print('\n')
for scnd in jd_rand.secnds:
    print(scnd)





random_vec = rvec(pspace=jd_rand.pspace)





random_vec.E, random_vec.V





random_vec_indep = rvec(pspace=jd_XY.pspace)
random_vec_indep.V



