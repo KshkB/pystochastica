{
 "cells": [
  {
   "cell_type": "markdown",
   "id": "e0e7c393-f42c-4da9-9bc7-43d9fb1ab83a",
   "metadata": {},
   "source": [
    "# OPTIMISERS\n",
    "\n",
    "## TUTORIAL\n",
    "\n",
    "In this tutorial we will look at stochastic optimisers written in `pystochastica` for systems of random variables.\n",
    "\n",
    "### LIBRARY IMPORTS"
   ]
  },
  {
   "cell_type": "code",
   "execution_count": 1,
   "id": "cf6b4f86-69f9-4040-bcfd-ff9cf65f74e2",
   "metadata": {},
   "outputs": [],
   "source": [
    "from pystochastica.discrete.optimisers import MeanVariance as MV\n",
    "from pystochastica.discrete.vectors import RandVec\n",
    "from pystochastica.discrete.utils import generate_jdist_random"
   ]
  },
  {
   "cell_type": "markdown",
   "id": "824b164c-6257-4f69-8054-d7042589dfec",
   "metadata": {},
   "source": [
    "### MEAN-VARIANCE OPTIMISATION\n",
    "\n",
    "Any random vector $\\vec X = (X_0, X_1, \\ldots, X_N)$ can be mapped to a \"portfolio\", which is the sum $P(w, \\vec X) = \\sum_{i=0}^N w_i X_i$ for weights $w = (w_0, \\ldots, w_N)$, $0\\leq w_i\\leq 1$. Mean-variance optimisation of $\\vec X$ concerns finding the optimal set of weights $w^*$ such that, for a given target $\\lambda$, $\\mathbb E[P(w, \\vec X)] = \\lambda$ while the variance $\\sigma^2[P(w^*, \\vec X)]$ is at a global minimum.\n",
    "\n",
    "In `pystochastica`, the Mean-Variance optimiser can be found at `pystochastica.discrete.optimisers.MeanVariance`. \n",
    "\n",
    "We demonstrate mean-variance optimisation below through the `MeanVariance` object."
   ]
  },
  {
   "cell_type": "code",
   "execution_count": 2,
   "id": "1f55b77a-9858-427c-b09e-9fc0e467001b",
   "metadata": {},
   "outputs": [
    {
     "name": "stdout",
     "output_type": "stream",
     "text": [
      "mv_optimiser.solution = array([0.3109128 , 0.58432609, 0.10476111])\n"
     ]
    }
   ],
   "source": [
    "rvec = RandVec(pspace=generate_jdist_random())\n",
    "target = (1.05)*rvec.sum().E\n",
    "\n",
    "mv_optimiser = MV(rvec, target)\n",
    "mv_optimiser.optimise()\n",
    "\n",
    "print(f\"{mv_optimiser.solution = }\")"
   ]
  }
 ],
 "metadata": {
  "kernelspec": {
   "display_name": ".vpystochastica",
   "language": "python",
   "name": ".vpystochastica"
  },
  "language_info": {
   "codemirror_mode": {
    "name": "ipython",
    "version": 3
   },
   "file_extension": ".py",
   "mimetype": "text/x-python",
   "name": "python",
   "nbconvert_exporter": "python",
   "pygments_lexer": "ipython3",
   "version": "3.11.7"
  }
 },
 "nbformat": 4,
 "nbformat_minor": 5
}
