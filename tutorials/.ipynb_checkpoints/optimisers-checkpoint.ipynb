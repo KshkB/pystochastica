{
 "cells": [
  {
   "cell_type": "markdown",
   "id": "e0e7c393-f42c-4da9-9bc7-43d9fb1ab83a",
   "metadata": {},
   "source": [
    "# OPTIMISERS\n",
    "\n",
    "## TUTORIAL\n",
    "\n",
    "In this tutorial we will look at stochastic optimisers written in `pystochastica` for systems of random variables.\n",
    "\n",
    "### LIBRARY IMPORTS"
   ]
  },
  {
   "cell_type": "code",
   "execution_count": null,
   "id": "cf6b4f86-69f9-4040-bcfd-ff9cf65f74e2",
   "metadata": {},
   "outputs": [],
   "source": [
    "from pystochastica.discrete.optimisers import MeanVariance as MV"
   ]
  },
  {
   "cell_type": "code",
   "execution_count": null,
   "id": "467f3948-7e65-4a04-b4bd-6fe1d6704567",
   "metadata": {},
   "outputs": [],
   "source": []
  }
 ],
 "metadata": {
  "kernelspec": {
   "display_name": ".vpystochastica",
   "language": "python",
   "name": ".vpystochastica"
  },
  "language_info": {
   "codemirror_mode": {
    "name": "ipython",
    "version": 3
   },
   "file_extension": ".py",
   "mimetype": "text/x-python",
   "name": "python",
   "nbconvert_exporter": "python",
   "pygments_lexer": "ipython3",
   "version": "3.11.7"
  }
 },
 "nbformat": 4,
 "nbformat_minor": 5
}
