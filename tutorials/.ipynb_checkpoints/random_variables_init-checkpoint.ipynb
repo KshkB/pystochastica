{
 "cells": [
  {
   "cell_type": "markdown",
   "id": "b0e9cac8-3c4d-410e-9da0-46ed5d5b1daf",
   "metadata": {},
   "source": [
    "# RANDOM VARIABLES - INTRODUCTION\n",
    "\n",
    "## TUTORIAL\n",
    "\n",
    "In this tutorial we will demonstrate basic functionality of PyStochastica's ``RandVar`` class, \n",
    "which is how the ``pystochastica.discrete`` package understands discrete random variables.\n",
    "\n",
    "### PRELIMINARIES\n",
    "\n",
    "#### MATHEMATICAL PRELIMINARIES \n",
    "\n",
    "A discrete probability space $\\mathbf P$ consists of a countable set $\\Omega$ of *samples*, \n",
    "a measure $\\omega$ defining the probabilties of each sample and a space of events. \n",
    "\n",
    "**Remark.** *If $\\Omega$ is finite, the space of events can be taken to be the power set $2^\\Omega$.*\n",
    "\n",
    "A discrete random variable on $\\mathbf P$ is then a mapping $X : \\Omega \\rightarrow \\mathbb R$ defining a new, discrete probability space \n",
    "through the pushforward construction. Its sample space is $X(\\Omega)$ and its probability measure is $X_*\\omega$. We will not need further details of this construction here. For our purposes, $X$ will simply be an object which \n",
    "can take on any of a discrete set of values (samples) with some defined probability. \n",
    "\n",
    "The *probability function* $P : 2^\\Omega \\rightarrow [0, 1]$ can be defined through the measure $\\omega$. For any event $E$, \n",
    "the probability $X\\in E$ is a number between $(0, 1)$ denoted $P(X\\in E)$. If $E = (\\leq \\lambda)$, then $P(X\\in E) = P(X \\leq \\lambda)$. The total law of probability states $\\sum_{x\\in X(\\Omega)} P(X = x) = 1$.\n",
    "\n",
    "**Example.**\n",
    "Suppose $\\mathbf P$ represents the act of flipping a fair coin. Then $\\Omega = \\{\\mathrm{HEADS}, \\mathrm{TAILS}\\}$, the outcomes (or, samples) of\n",
    "a coin flip. Their probabilities are encoded by the probability measure $\\omega$. Since the coin is fair, we write $\\omega = \\frac{1}{2} \\delta_{\\mathrm{HEADS}} + \\frac{1}{2}\\delta_{\\mathrm{TAILS}}$. A random variable $X$ can encode nominal value of realising an outcome of a coin flip. Say $\\mathrm{HEADS}$ results in $+10$ while $\\mathrm{TAILS}$ results in $-15$. Then $X(\\Omega) = \\{10, -15\\}$ with probability measure $X_*\\omega = \\frac{1}{2}\\delta_{10} + \\frac{1}{2}\\delta_{-15}$. The probability $X = 9$ is clearly $P(X = 9) = 0$, while for $X\\leq 9$, $P(X\\leq 9) = \\frac{1}{2}$. Its *expected value* of $X$ is $\\mathbb E[X] = \\frac{1}{2}(10) + \\frac{1}{2}(-15) = -\\frac{5}{2}$. Its *variance* is $\\mathbb E[X^2] - \\mathbb E[X]^2 = 156.25$\n",
    "\n",
    "Calculating probabilities becomes more challenging for linear combinations of multiple (independent) random variables. \n",
    "Random vectors, to be discussed in a later tutorial, are used to investigate dependent variables.\n",
    "\n",
    "#### IN PYSTOCHASTICA\n",
    "\n",
    "Random variables in ``pystochastica`` are instances of the ``RandVar`` class. The details on its probability space are stored in memory as a ``dict`` type object. It encodes samples in the sample space $\\Omega$ as keys with probabilities from the probability measure $\\omega$ as values.\n",
    "\n",
    "### LIBRARY IMPORTS\n",
    "\n",
    "Use the following line to import the ``RandVar`` class as ``rv``. As each sample for ``RandVar`` is a ``Sample`` type object, this will also need to be imported. Finally, the *name* of the random variable is a ``sympy.Expr`` type object, so we will need Python's ``sympy`` library.\n"
   ]
  },
  {
   "cell_type": "code",
   "execution_count": 1,
   "id": "de207e4d-08c5-4739-b8d8-a3d95c08c831",
   "metadata": {},
   "outputs": [],
   "source": [
    "from pystochastica.discrete.variables import RandVar as rv\n",
    "from pystochastica.discrete.samples import Sample as smp\n",
    "from pystochastica.discrete.utils import rvdict_to_init\n",
    "import sympy as sp"
   ]
  },
  {
   "cell_type": "markdown",
   "id": "1473dd2d-4019-42f6-8ea9-fc3a857cc7b3",
   "metadata": {},
   "source": [
    "### INITIALISATION\n",
    "\n",
    "Suppose we would like to initialise a random variable $X$ with samples space $\\Omega_X = \\{-2, -1, 0, 1, 2\\}$ and probability measure $\\omega_X = 0.1\\delta_{-2} + 0.35\\delta_{-1} + 0.2\\delta_0 + 0.25\\delta_1 + 0.15\\delta_2$. This can be initialised with the following keyword arguments \n",
    "\n",
    "- ``name``, type ``sympy.Expr``\n",
    "- ``pspace``, type ``dict``\n",
    "\n",
    "**Note.** *If the probabilities do not sum to `1.0`, an error will be raised and the random variable will not be initialised.*"
   ]
  },
  {
   "cell_type": "code",
   "execution_count": 2,
   "id": "24b6ca67-ccc8-49d0-98ab-5bef3c25d98f",
   "metadata": {},
   "outputs": [],
   "source": [
    "X_name = sp.Symbol('X')\n",
    "X_pspace: dict = {\n",
    "    smp(name=X_name, value=-2): 0.1,\n",
    "    smp(name=X_name, value=-1): 0.3,\n",
    "    smp(name=X_name, value=0): 0.2,\n",
    "    smp(name=X_name, value=1): 0.25,\n",
    "    smp(name=X_name, value=2): 0.15\n",
    "}\n",
    "\n",
    "X = rv(name=X_name, pspace=X_pspace)"
   ]
  },
  {
   "cell_type": "markdown",
   "id": "372bdb70-afd4-4c15-9689-1225dee29b23",
   "metadata": {},
   "source": [
    "#### INITISLISATION THROUGH BARE DICTS\n",
    "\n",
    "Random variables through the ``RandVar`` class can also be initialised from a \"bare\" dictionary with the ``rvdict_to_init`` utility function, located in ``pystochastica.discrete.utils``. With this function, it is not necessary to use the ``Sample`` class during initialisation as above, thereby making the initialisation code more readable and intuitive. \n",
    "\n",
    "See below and compare with how `X` was initialised through ``Sample`` above.\n"
   ]
  },
  {
   "cell_type": "code",
   "execution_count": 3,
   "id": "555870a0-823c-4786-b39a-c819fa8d205c",
   "metadata": {},
   "outputs": [],
   "source": [
    "X_init = {\n",
    "    'name': 'X', \n",
    "    'pspace': {\n",
    "        '-2': 0.1,\n",
    "        '-1': 0.3,\n",
    "        '0': 0.2,\n",
    "        '1': 0.25,\n",
    "        '2': 0.15\n",
    "}}\n",
    "X = rv(**rvdict_to_init(X_init))"
   ]
  },
  {
   "cell_type": "markdown",
   "id": "9bd52594-cb08-452a-972f-d3c59df52847",
   "metadata": {},
   "source": [
    "### MOMENTS\n",
    "\n",
    "The expectation and variance can now be calculated easily by passing the ``calculate_expectation()`` and ``calculate_variance()`` methods. \n",
    "Passing the shorthand methods `.E` and `.V` respectively will return these to the console.\n"
   ]
  },
  {
   "cell_type": "code",
   "execution_count": 4,
   "id": "aa77bf95-1571-4ff3-8c23-db3b2aac78cc",
   "metadata": {},
   "outputs": [
    {
     "data": {
      "text/plain": [
       "(0.05, 1.5475)"
      ]
     },
     "execution_count": 4,
     "metadata": {},
     "output_type": "execute_result"
    }
   ],
   "source": [
    "X.E, X.V"
   ]
  },
  {
   "cell_type": "markdown",
   "id": "1c837be8-38ef-4bde-9050-3431d6c55e5e",
   "metadata": {},
   "source": [
    "the Sharpe ratio of a random variable $X$ is the ratio of its expectation to deviation, i.e., $\\mathbb E[X]/\\sqrt{\\mathrm{Var}(X)}$. \n",
    "\n",
    "With ``.E`` and ``.V``, the Sharpe ratio for `X` is then,"
   ]
  },
  {
   "cell_type": "code",
   "execution_count": 5,
   "id": "fa05f98a-225a-454f-b649-e831036cf84a",
   "metadata": {},
   "outputs": [
    {
     "data": {
      "text/plain": [
       "0.04019339355290704"
      ]
     },
     "execution_count": 5,
     "metadata": {},
     "output_type": "execute_result"
    }
   ],
   "source": [
    "X.E / (X.V)**(1/2)"
   ]
  },
  {
   "cell_type": "markdown",
   "id": "be0ea398-234b-41f0-b109-facf8d514b7d",
   "metadata": {},
   "source": [
    "### PROBABILITY\n",
    "\n",
    "The probability of an event can be calculated through the ``.Prob`` method. The probability of the event `X != 0` is,"
   ]
  },
  {
   "cell_type": "code",
   "execution_count": 6,
   "id": "7bc4671b-4d85-41cb-8013-d89d90cc7a4c",
   "metadata": {},
   "outputs": [
    {
     "data": {
      "text/plain": [
       "Decimal('0.80')"
      ]
     },
     "execution_count": 6,
     "metadata": {},
     "output_type": "execute_result"
    }
   ],
   "source": [
    "X.Prob('!= 0')"
   ]
  },
  {
   "cell_type": "markdown",
   "id": "c713d5bf-3ac5-45ef-b178-ab0f216783b2",
   "metadata": {},
   "source": [
    "See that the ``Decimal`` library is used as part of the ``RandVar`` class to ensure numerical accuracy. See in particular that a ``significant_figures`` argument for rounding probabilties need not be passed, thereby mitigating floating point errors through accumulation.\n",
    "\n",
    "### SAMPLING\n",
    "\n",
    "The `.generate()` method on `X` allows for sampling the random variable $X$. The `iterations` parameter determines the number of times $X$ gets sampled. See below for `10` random samples of `X`.\n"
   ]
  },
  {
   "cell_type": "code",
   "execution_count": 7,
   "id": "b8e0fcca-de99-4a5b-a591-3efddc1dbaa4",
   "metadata": {},
   "outputs": [
    {
     "data": {
      "text/plain": [
       "array([Decimal('-1.0'), Decimal('0.0'), Decimal('1.0'), Decimal('-2.0'),\n",
       "       Decimal('1.0'), Decimal('1.0'), Decimal('2.0'), Decimal('0.0'),\n",
       "       Decimal('-2.0'), Decimal('-1.0')], dtype=object)"
      ]
     },
     "execution_count": 7,
     "metadata": {},
     "output_type": "execute_result"
    }
   ],
   "source": [
    "X.generate(iterations=10)"
   ]
  },
  {
   "cell_type": "markdown",
   "id": "0f8c4809-c78e-4a57-897f-d7fee20ce148",
   "metadata": {},
   "source": [
    "### BUILT-IN PLOTTING\n",
    "\n",
    "#### PDF AND CDF\n",
    "\n",
    "In order to visualise `X`, its probability density function and cumulative density function can be displayed with the `.pdf()` and `.cdf()` methods. \n",
    "\n",
    "By default, the number of iterations for `.pdf()` is set to `1000` but can be changed. \n",
    "\n",
    "Below we look at the pdf and cdf for `500` iterations and custom sizing with the `FIGSIZE` argument. "
   ]
  },
  {
   "cell_type": "code",
   "execution_count": 14,
   "id": "e3bfc9ed-a475-42c0-8965-6239eeb7e5a4",
   "metadata": {},
   "outputs": [
    {
     "data": {
      "image/png": "[encoded data removed]",
      "text/plain": [
       "<Figure size 500x300 with 1 Axes>"
      ]
     },
     "metadata": {},
     "output_type": "display_data"
    },
    {
     "data": {
      "image/png": "[encoded data removed]",
      "text/plain": [
       "<Figure size 500x300 with 1 Axes>"
      ]
     },
     "metadata": {},
     "output_type": "display_data"
    }
   ],
   "source": [
    "X.pdf(iterations=500, FIGSIZE=(5, 3), plt_kwargs = {'width': 0.3, 'color': 'g'})\n",
    "X.cdf(FIGSIZE=(5, 3), plt_kwargs = {'color': 'y'})"
   ]
  },
  {
   "cell_type": "code",
   "execution_count": null,
   "id": "5d2b2065-6e52-403a-a6ef-f94f17e7f70a",
   "metadata": {},
   "outputs": [],
   "source": []
  }
 ],
 "metadata": {
  "kernelspec": {
   "display_name": ".vpystochastica",
   "language": "python",
   "name": ".vpystochastica"
  },
  "language_info": {
   "codemirror_mode": {
    "name": "ipython",
    "version": 3
   },
   "file_extension": ".py",
   "mimetype": "text/x-python",
   "name": "python",
   "nbconvert_exporter": "python",
   "pygments_lexer": "ipython3",
   "version": "3.11.7"
  }
 },
 "nbformat": 4,
 "nbformat_minor": 5
}
