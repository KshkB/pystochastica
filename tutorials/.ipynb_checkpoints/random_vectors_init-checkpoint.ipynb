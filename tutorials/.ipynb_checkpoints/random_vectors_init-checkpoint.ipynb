{
 "cells": [
  {
   "cell_type": "markdown",
   "id": "b0b3d9a5-d405-437e-a883-69b888d78083",
   "metadata": {},
   "source": [
    "# RANDOM VECTORS - INITIALISATION\n",
    "\n",
    "## TUTORIAL\n",
    "\n",
    "Loosely speaking, random vectors are collections of random variables whose events occur simultaneously. We can combine any collection of random variables to form a random vector, but this necessarily requires the random variables in question be independent. The utility and necessity of random vectors become apparent when the variables in question are *dependent*. \n",
    "\n",
    "**Note.** The above description is only a heuristic. If we write represent a random vector by $\\vec X = (X_1, X_2, \\cdots)$, the components $X_1, X_2$ are the *marginal distributions* of $\\vec X$. They do not necessarily exist independently as random variables.\n",
    "\n",
    "In this tutorial we will demonstrate how random vectors can be initialised in pystochastica.\n",
    "\n",
    "### LIBRARY IMPORTS\n",
    "\n",
    "Random vectors are represented in pystochastica through the ``RandVec`` class. Import this with the line below, along with other classes and functions we will reference throughout the tutorial.\n"
   ]
  },
  {
   "cell_type": "code",
   "execution_count": 1,
   "id": "907fa022-3050-45be-a36d-ed50daac8f9a",
   "metadata": {},
   "outputs": [],
   "source": [
    "from pystochastica.discrete.utils import rvdict_to_init\n",
    "from pystochastica.discrete.variables import RandVar as rvar\n",
    "from pystochastica.discrete.vectors import RandVec as rvec\n",
    "from pystochastica.discrete.core import JointDistribution as jd\n",
    "from pystochastica.discrete.utils import generate_jdist, generate_jdist_random"
   ]
  },
  {
   "cell_type": "markdown",
   "id": "deaa306d-693f-4f0f-a20e-24c5ef503e98",
   "metadata": {},
   "source": [
    "### THE JOINT DISTRIBUTION\n",
    "\n",
    "When initialising random variables, it was necessary to form a `dict` type with all the necessary information such as the variable name, `name`, and probability space, `pspace`. Random vectors are initialised by a *joint distribution* object, which can be found as `JointDistribution` in the subpackage `pystochastica.discrete.core`. It is essentially an object, much like `pspace`, which contains joint information the events of each component with corresponding probability.\n",
    "\n",
    "**Example.** Suppose $X$ and $Y$ are components of a random vector $v$. Then the joint distribution is the `dict` type object containing all joint values of $X$ *and* $Y$ together with their probabilites, e.g., if $X$ takes on values `-1` ans `0` while $Y$ takes on values `-1` and `1`, a possible joint distribution would be:\n",
    "\n",
    "```\n",
    "jd(X, Y) = {\n",
    "    (-1, -1) : 0.1,\n",
    "    (0, -1) : 0.2,\n",
    "    (-1, 1): 0.2,\n",
    "    (0, -1): 0.5\n",
    "}\n",
    "\n",
    "```\n",
    "\n",
    "#### INDEPENDENT JOINT DISTRIBUTIONS\n",
    "\n",
    "We had mentioned earlier that independent random variables can be used to generate a joint distribution. In `pystochastica`, this means a list of `RandVar` objects can be used to generate arguements to *initialise* a `JointDistribution` object. We can do this with the `generate_jdist` function. See the code block below for an example."
   ]
  },
  {
   "cell_type": "code",
   "execution_count": 7,
   "id": "f156f5d5-7c44-4c96-854a-3371ff8b21a2",
   "metadata": {},
   "outputs": [
    {
     "name": "stdout",
     "output_type": "stream",
     "text": [
      "Joint Probability Distribution (X, Y)\n",
      "(X, Decimal('-1.0')) AND (Y, Decimal('-1.0'))\tprobability = Decimal('0.148')\n",
      "(X, Decimal('-1.0')) AND (Y, Decimal('1.0'))\tprobability = Decimal('0.222')\n",
      "(X, Decimal('0.0')) AND (Y, Decimal('-1.0'))\tprobability = Decimal('0.08')\n",
      "(X, Decimal('0.0')) AND (Y, Decimal('1.0'))\tprobability = Decimal('0.12')\n",
      "(X, Decimal('1.0')) AND (Y, Decimal('-1.0'))\tprobability = Decimal('0.172')\n",
      "(X, Decimal('1.0')) AND (Y, Decimal('1.0'))\tprobability = Decimal('0.258')\n"
     ]
    }
   ],
   "source": [
    "# initialise random variables through RandVar\n",
    "\n",
    "X_init = {\n",
    "    'name': 'X', \n",
    "    'pspace': {\n",
    "        '-1': 0.37,\n",
    "        '0': 0.2,\n",
    "        '1': 0.43\n",
    "    }}\n",
    "X = rvar(**rvdict_to_init(X_init))\n",
    "\n",
    "Y_init = {\n",
    "    'name': 'Y', \n",
    "    'pspace': {\n",
    "        '-1': 0.4,\n",
    "        '1': 0.6\n",
    "    }}\n",
    "Y = rvar(**rvdict_to_init(Y_init))\n",
    "\n",
    "jd_XY = jd(pspace=generate_jdist(X, Y))\n",
    "print(jd_XY)"
   ]
  },
  {
   "cell_type": "markdown",
   "id": "f63972fd-0c13-48ea-b1e5-d57196e5f7fd",
   "metadata": {},
   "source": [
    "#### RANDOM JOINT DISTRIBUTION\n",
    "\n",
    "The distribution `jd_XY` above is the product distribution, having been generated from `RandVar` objects `X` and `Y`, i.e., *a priori* independent random variables. Accordingly, we would say the marginals of this distribution are independent.\n",
    "\n",
    "The utility function `generate_jdist_random` can be used to generate a random joint distributions where the marginal are almost surely dependent, demonstrated below.\n",
    "\n",
    "**Note.** *Any arguments passed to `generate_jdist_random` are optional. Arguments can be passed in order to get some control over the joint distribution generated, such as the total number marginals (dimension) and number of samples for each marginal.* \n",
    "\n",
    "**Note.** *When calling `generate_jdist_random`, the probabilities are stored as `Fraction` type objects instead of `Decimal` type objects. This is due to how the probability generater is written in `generate_jdist_random`.*\n"
   ]
  },
  {
   "cell_type": "code",
   "execution_count": 9,
   "id": "548189e1-678d-499c-b748-b61c4ba496fb",
   "metadata": {},
   "outputs": [
    {
     "name": "stdout",
     "output_type": "stream",
     "text": [
      "Joint Probability Distribution (X_0, X_1, X_2)\n",
      "(X_0, Decimal('-33.611734282205816')) AND (X_1, Decimal('-49.21008737049929')) AND (X_2, Decimal('8.824009884718166'))\tprobability = Fraction(5, 358)\n",
      "(X_0, Decimal('-33.611734282205816')) AND (X_1, Decimal('-49.21008737049929')) AND (X_2, Decimal('15.39182166027426'))\tprobability = Fraction(31, 895)\n",
      "(X_0, Decimal('-33.611734282205816')) AND (X_1, Decimal('-49.21008737049929')) AND (X_2, Decimal('44.98769037293994'))\tprobability = Fraction(41, 1790)\n",
      "(X_0, Decimal('-33.611734282205816')) AND (X_1, Decimal('-49.21008737049929')) AND (X_2, Decimal('48.08110792713477'))\tprobability = Fraction(46, 895)\n",
      "(X_0, Decimal('-33.611734282205816')) AND (X_1, Decimal('42.90516173380179')) AND (X_2, Decimal('8.824009884718166'))\tprobability = Fraction(17, 358)\n",
      "(X_0, Decimal('-33.611734282205816')) AND (X_1, Decimal('42.90516173380179')) AND (X_2, Decimal('15.39182166027426'))\tprobability = Fraction(39, 895)\n",
      "(X_0, Decimal('-33.611734282205816')) AND (X_1, Decimal('42.90516173380179')) AND (X_2, Decimal('44.98769037293994'))\tprobability = Fraction(69, 1790)\n",
      "(X_0, Decimal('-33.611734282205816')) AND (X_1, Decimal('42.90516173380179')) AND (X_2, Decimal('48.08110792713477'))\tprobability = Fraction(5, 358)\n",
      "(X_0, Decimal('-33.611734282205816')) AND (X_1, Decimal('47.305515068000474')) AND (X_2, Decimal('8.824009884718166'))\tprobability = Fraction(23, 895)\n",
      "(X_0, Decimal('-33.611734282205816')) AND (X_1, Decimal('47.305515068000474')) AND (X_2, Decimal('15.39182166027426'))\tprobability = Fraction(81, 1790)\n",
      "(X_0, Decimal('-33.611734282205816')) AND (X_1, Decimal('47.305515068000474')) AND (X_2, Decimal('44.98769037293994'))\tprobability = Fraction(3, 358)\n",
      "(X_0, Decimal('-33.611734282205816')) AND (X_1, Decimal('47.305515068000474')) AND (X_2, Decimal('48.08110792713477'))\tprobability = Fraction(41, 1790)\n",
      "(X_0, Decimal('-33.611734282205816')) AND (X_1, Decimal('-40.082672542731935')) AND (X_2, Decimal('8.824009884718166'))\tprobability = Fraction(42, 895)\n",
      "(X_0, Decimal('-33.611734282205816')) AND (X_1, Decimal('-40.082672542731935')) AND (X_2, Decimal('15.39182166027426'))\tprobability = Fraction(32, 895)\n",
      "(X_0, Decimal('-33.611734282205816')) AND (X_1, Decimal('-40.082672542731935')) AND (X_2, Decimal('44.98769037293994'))\tprobability = Fraction(43, 1790)\n",
      "(X_0, Decimal('-33.611734282205816')) AND (X_1, Decimal('-40.082672542731935')) AND (X_2, Decimal('48.08110792713477'))\tprobability = Fraction(19, 1790)\n",
      "(X_0, Decimal('-23.615756323039182')) AND (X_1, Decimal('-49.21008737049929')) AND (X_2, Decimal('8.824009884718166'))\tprobability = Fraction(51, 1790)\n",
      "(X_0, Decimal('-23.615756323039182')) AND (X_1, Decimal('-49.21008737049929')) AND (X_2, Decimal('15.39182166027426'))\tprobability = Fraction(87, 1790)\n",
      "(X_0, Decimal('-23.615756323039182')) AND (X_1, Decimal('-49.21008737049929')) AND (X_2, Decimal('44.98769037293994'))\tprobability = Fraction(33, 1790)\n",
      "(X_0, Decimal('-23.615756323039182')) AND (X_1, Decimal('-49.21008737049929')) AND (X_2, Decimal('48.08110792713477'))\tprobability = Fraction(21, 895)\n",
      "(X_0, Decimal('-23.615756323039182')) AND (X_1, Decimal('42.90516173380179')) AND (X_2, Decimal('8.824009884718166'))\tprobability = Fraction(67, 1790)\n",
      "(X_0, Decimal('-23.615756323039182')) AND (X_1, Decimal('42.90516173380179')) AND (X_2, Decimal('15.39182166027426'))\tprobability = Fraction(43, 895)\n",
      "(X_0, Decimal('-23.615756323039182')) AND (X_1, Decimal('42.90516173380179')) AND (X_2, Decimal('44.98769037293994'))\tprobability = Fraction(16, 895)\n",
      "(X_0, Decimal('-23.615756323039182')) AND (X_1, Decimal('42.90516173380179')) AND (X_2, Decimal('48.08110792713477'))\tprobability = Fraction(41, 895)\n",
      "(X_0, Decimal('-23.615756323039182')) AND (X_1, Decimal('47.305515068000474')) AND (X_2, Decimal('8.824009884718166'))\tprobability = Fraction(22, 895)\n",
      "(X_0, Decimal('-23.615756323039182')) AND (X_1, Decimal('47.305515068000474')) AND (X_2, Decimal('15.39182166027426'))\tprobability = Fraction(2, 179)\n",
      "(X_0, Decimal('-23.615756323039182')) AND (X_1, Decimal('47.305515068000474')) AND (X_2, Decimal('44.98769037293994'))\tprobability = Fraction(44, 895)\n",
      "(X_0, Decimal('-23.615756323039182')) AND (X_1, Decimal('47.305515068000474')) AND (X_2, Decimal('48.08110792713477'))\tprobability = Fraction(37, 895)\n",
      "(X_0, Decimal('-23.615756323039182')) AND (X_1, Decimal('-40.082672542731935')) AND (X_2, Decimal('8.824009884718166'))\tprobability = Fraction(32, 895)\n",
      "(X_0, Decimal('-23.615756323039182')) AND (X_1, Decimal('-40.082672542731935')) AND (X_2, Decimal('15.39182166027426'))\tprobability = Fraction(4, 179)\n",
      "(X_0, Decimal('-23.615756323039182')) AND (X_1, Decimal('-40.082672542731935')) AND (X_2, Decimal('44.98769037293994'))\tprobability = Fraction(8, 895)\n",
      "(X_0, Decimal('-23.615756323039182')) AND (X_1, Decimal('-40.082672542731935')) AND (X_2, Decimal('48.08110792713477'))\tprobability = Fraction(47, 895)\n"
     ]
    }
   ],
   "source": [
    "jd_rand = jd(pspace=generate_jdist_random())\n",
    "print(jd_rand)"
   ]
  },
  {
   "cell_type": "markdown",
   "id": "809b4fb8-1dab-4eab-8563-afc945249055",
   "metadata": {},
   "source": [
    "#### MARGINALS AND SECONDARIES\n",
    "\n",
    "Marginals and secondaries of a joint distribution are random variables derived by looking at the distribution after setting all-but-one or all-but-two values constant respectively. \n",
    "\n",
    "**Remark.** *If the joint distribution is just the product distribution of random variables, say `X` and `Y`, the marginals are just these variables again `[X, Y]` while secondaries coincide with the product variable `XY`.*\n",
    "\n",
    "The properties `margs` and `secnds` on the `JointDistribution` object return the marginals and secondaries respectively. To illustrate for `jd_rand` above, its marginals and secondaries are:\n"
   ]
  },
  {
   "cell_type": "code",
   "execution_count": 14,
   "id": "d9069b46-7988-4906-a2fa-f8c5d85109e7",
   "metadata": {},
   "outputs": [
    {
     "name": "stdout",
     "output_type": "stream",
     "text": [
      "Random variable X_2\n",
      "(X_2, Decimal('8.824009884718166'))\tprobability = Fraction(233, 895)\n",
      "(X_2, Decimal('15.39182166027426'))\tprobability = Fraction(259, 895)\n",
      "(X_2, Decimal('44.98769037293994'))\tprobability = Fraction(337, 1790)\n",
      "(X_2, Decimal('48.08110792713477'))\tprobability = Fraction(469, 1790)\n",
      "Random variable X_2\n",
      "(X_2, Decimal('8.824009884718166'))\tprobability = Fraction(233, 895)\n",
      "(X_2, Decimal('15.39182166027426'))\tprobability = Fraction(259, 895)\n",
      "(X_2, Decimal('44.98769037293994'))\tprobability = Fraction(337, 1790)\n",
      "(X_2, Decimal('48.08110792713477'))\tprobability = Fraction(469, 1790)\n",
      "Random variable X_2\n",
      "(X_2, Decimal('8.824009884718166'))\tprobability = Fraction(233, 895)\n",
      "(X_2, Decimal('15.39182166027426'))\tprobability = Fraction(259, 895)\n",
      "(X_2, Decimal('44.98769037293994'))\tprobability = Fraction(337, 1790)\n",
      "(X_2, Decimal('48.08110792713477'))\tprobability = Fraction(469, 1790)\n",
      "\n",
      "\n",
      "Random variable X_0*X_1\n",
      "(X_0*X_1, Decimal('1654.036380701354444491906462'))\tprobability = Fraction(22, 179)\n",
      "(X_0*X_1, Decimal('-1442.116895531610751903368929'))\tprobability = Fraction(257, 1790)\n",
      "(X_0*X_1, Decimal('-1590.020402548515325027285254'))\tprobability = Fraction(183, 1790)\n",
      "(X_0*X_1, Decimal('1347.248138826972744907750586'))\tprobability = Fraction(21, 179)\n",
      "(X_0*X_1, Decimal('1162.133431977179201127861573'))\tprobability = Fraction(213, 1790)\n",
      "(X_0*X_1, Decimal('-1013.237844506048375068271992'))\tprobability = Fraction(267, 1790)\n",
      "(X_0*X_1, Decimal('-1117.155516581757493523891497'))\tprobability = Fraction(113, 895)\n",
      "(X_0*X_1, Decimal('946.5826275453307009458443277'))\tprobability = Fraction(107, 895)\n",
      "Random variable X_0*X_2\n",
      "(X_0*X_2, Decimal('-296.5902755487045704687999661'))\tprobability = Fraction(24, 179)\n",
      "(X_0*X_2, Decimal('-517.3458197642383855310123271'))\tprobability = Fraction(57, 358)\n",
      "(X_0*X_2, Decimal('-1512.114294785405932906820087'))\tprobability = Fraction(84, 895)\n",
      "(X_0*X_2, Decimal('-1616.089423640913568152316310'))\tprobability = Fraction(177, 1790)\n",
      "(X_0*X_2, Decimal('-208.3856672295932721427666452'))\tprobability = Fraction(113, 895)\n",
      "(X_0*X_2, Decimal('-363.4895096967132958654388461'))\tprobability = Fraction(233, 1790)\n",
      "(X_0*X_2, Decimal('-1062.418333383685323838433153'))\tprobability = Fraction(169, 1790)\n",
      "(X_0*X_2, Decimal('-1135.471728548962281871451705'))\tprobability = Fraction(146, 895)\n",
      "Random variable X_1*X_2\n",
      "(X_1*X_2, Decimal('-434.2302973851303165815043531'))\tprobability = Fraction(38, 895)\n",
      "(X_1*X_2, Decimal('-757.4328886932397753988545353'))\tprobability = Fraction(149, 1790)\n",
      "(X_1*X_2, Decimal('-2213.848173849344235088862983'))\tprobability = Fraction(37, 895)\n",
      "(X_1*X_2, Decimal('-2366.075521964708041841794019'))\tprobability = Fraction(67, 895)\n",
      "(X_1*X_2, Decimal('378.5955712444986002386098563'))\tprobability = Fraction(76, 895)\n",
      "(X_1*X_2, Decimal('660.3885977119007151258838789'))\tprobability = Fraction(82, 895)\n",
      "(X_1*X_2, Decimal('1930.204131481185892659435534'))\tprobability = Fraction(101, 1790)\n",
      "(X_1*X_2, Decimal('2062.927711954096637662653797'))\tprobability = Fraction(107, 1790)\n",
      "(X_1*X_2, Decimal('417.4243325617203272270106444'))\tprobability = Fraction(9, 179)\n",
      "(X_1*X_2, Decimal('728.1180514740800791660166500'))\tprobability = Fraction(101, 1790)\n",
      "(X_1*X_2, Decimal('2128.165864811650195294252694'))\tprobability = Fraction(103, 1790)\n",
      "(X_1*X_2, Decimal('2274.501575533230898746871822'))\tprobability = Fraction(23, 358)\n",
      "(X_1*X_2, Decimal('-353.6898987229880194117691628'))\tprobability = Fraction(74, 895)\n",
      "(X_1*X_2, Decimal('-616.9453474449017464782817605'))\tprobability = Fraction(52, 895)\n",
      "(X_1*X_2, Decimal('-1803.226861672365538006245275'))\tprobability = Fraction(59, 1790)\n",
      "(X_1*X_2, Decimal('-1927.219304535095627943132728'))\tprobability = Fraction(113, 1790)\n"
     ]
    }
   ],
   "source": [
    "for marg in jd_rand.margs:\n",
    "    print(m)\n",
    "print('\\n')\n",
    "for scnd in jd_rand.secnds:\n",
    "    print(scnd)"
   ]
  },
  {
   "cell_type": "markdown",
   "id": "cb5221d2-e21a-436b-b7ea-1d104ff2b0cf",
   "metadata": {},
   "source": [
    "### RANDOM VECTORS\n",
    "\n",
    "Random vectors in `pystochastica` are represented through the `RandVec` class. These are initialised with a `pspace` dict which can be obtained from the `pspace` attribute in the `JointDistribution` object.\n",
    "\n",
    "We initialise a random vector with `jd_rand` below. \n",
    "\n",
    "**Note.** *On random vectors it is more appropriate to call `.componnts` to get a list of its components as random variables, i.e., `RandVar` objects. These are precisely the marginals of the underlying joint distribution. Accordingly, calling `.components` is equivalent to calling `.margs` on the underlying `JointDistribution` object.*\n"
   ]
  },
  {
   "cell_type": "code",
   "execution_count": 30,
   "id": "742b2384-4052-4d4b-bd33-32005824f734",
   "metadata": {},
   "outputs": [],
   "source": [
    "random_vec = rvec(pspace=jd_rand.pspace)"
   ]
  },
  {
   "cell_type": "markdown",
   "id": "0dd7afef-91ac-4d9c-a92f-dd793d62772b",
   "metadata": {},
   "source": [
    "#### EXPECTATION AND COVARIANCE\n",
    "\n",
    "Just as with `RandVar`, the expectation vector and covariance matrix can be obtained by passed `.E` and `.V` as follows."
   ]
  },
  {
   "cell_type": "code",
   "execution_count": 26,
   "id": "202ad0d2-0eb9-4006-8e33-9cffef69566a",
   "metadata": {},
   "outputs": [
    {
     "data": {
      "text/plain": [
       "(array([-28.47413667,   1.97052482,  27.81890698]),\n",
       " array([[  24.96040327,    7.11669639,    9.10097184],\n",
       "        [   7.11669639, 2012.67906479,    4.39921626],\n",
       "        [   9.10097184,    4.39921626,  301.68676675]]))"
      ]
     },
     "execution_count": 26,
     "metadata": {},
     "output_type": "execute_result"
    }
   ],
   "source": [
    "random_vec.E, random_vec.V"
   ]
  },
  {
   "cell_type": "markdown",
   "id": "5795e367-0228-41b3-a33f-14d94e287783",
   "metadata": {},
   "source": [
    "To compare, recall `jd_XY` from earlier is the product distribution. This means the off-diagonal entires of its covariance matrix will be zero while the diagonal entries will be non-zero. This is demonstrated below.\n"
   ]
  },
  {
   "cell_type": "code",
   "execution_count": 28,
   "id": "fbbb6f64-36e2-45b6-bc5a-f3e5d6c908ff",
   "metadata": {},
   "outputs": [
    {
     "data": {
      "text/plain": [
       "array([[0.7964, 0.    ],\n",
       "       [0.    , 0.96  ]])"
      ]
     },
     "execution_count": 28,
     "metadata": {},
     "output_type": "execute_result"
    }
   ],
   "source": [
    "random_vec_indep = rvec(pspace=jd_XY.pspace)\n",
    "random_vec_indep.V"
   ]
  },
  {
   "cell_type": "code",
   "execution_count": null,
   "id": "929d020d-0475-4be9-9d44-745e1a416523",
   "metadata": {},
   "outputs": [],
   "source": []
  }
 ],
 "metadata": {
  "kernelspec": {
   "display_name": ".vpystochastica",
   "language": "python",
   "name": ".vpystochastica"
  },
  "language_info": {
   "codemirror_mode": {
    "name": "ipython",
    "version": 3
   },
   "file_extension": ".py",
   "mimetype": "text/x-python",
   "name": "python",
   "nbconvert_exporter": "python",
   "pygments_lexer": "ipython3",
   "version": "3.11.7"
  }
 },
 "nbformat": 4,
 "nbformat_minor": 5
}
