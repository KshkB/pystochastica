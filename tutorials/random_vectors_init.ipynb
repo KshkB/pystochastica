{
 "cells": [
  {
   "cell_type": "markdown",
   "id": "b0b3d9a5-d405-437e-a883-69b888d78083",
   "metadata": {},
   "source": [
    "# RANDOM VECTORS - INITIALISATION\n",
    "\n",
    "## TUTORIAL\n",
    "\n",
    "Loosely speaking, random vectors are collections of random variables whose events occur simultaneously. We can combine any collection of random variables to form a random vector, but this necessarily requires the random variables in question be independent. The utility and necessity of random vectors become apparent when the variables in question are *dependent*. \n",
    "\n",
    "**Note.** The above description is only a heuristic. If we write represent a random vector by $\\vec X = (X_1, X_2, \\cdots)$, the components $X_1, X_2$ are the *marginal distributions* of $\\vec X$. They do not necessarily exist independently as random variables.\n",
    "\n",
    "In this tutorial we will demonstrate how random vectors can be initialised in pystochastica.\n",
    "\n",
    "### LIBRARY IMPORTS\n",
    "\n",
    "Random vectors are represented in pystochastica through the ``RandVec`` class. Import this with the line below, along with other classes and functions we will reference throughout the tutorial.\n"
   ]
  },
  {
   "cell_type": "code",
   "execution_count": 1,
   "id": "907fa022-3050-45be-a36d-ed50daac8f9a",
   "metadata": {},
   "outputs": [],
   "source": [
    "from pystochastica.discrete.utils import rvdict_to_init\n",
    "from pystochastica.discrete.variables import RandVar as rvar\n",
    "from pystochastica.discrete.vectors import RandVec as rvec\n",
    "from pystochastica.discrete.core import JointDistribution as jd\n",
    "from pystochastica.discrete.utils import generate_jdist, generate_jdist_random"
   ]
  },
  {
   "cell_type": "markdown",
   "id": "deaa306d-693f-4f0f-a20e-24c5ef503e98",
   "metadata": {},
   "source": [
    "### THE JOINT DISTRIBUTION\n",
    "\n",
    "When initialising random variables, it was necessary to form a `dict` type with all the necessary information such as the variable name, `name`, and probability space, `pspace`. Random vectors are initialised by a *joint distribution* object, which can be found as `JointDistribution` in the subpackage `pystochastica.discrete.core`. It is essentially an object, much like `pspace`, which contains joint information the events of each component with corresponding probability.\n",
    "\n",
    "**Example.** Suppose $X$ and $Y$ are components of a random vector $v$. Then the joint distribution is the `dict` type object containing all joint values of $X$ *and* $Y$ together with their probabilites, e.g., if $X$ takes on values `-1` ans `0` while $Y$ takes on values `-1` and `1`, a possible joint distribution would be:\n",
    "\n",
    "```\n",
    "jd(X, Y) = {\n",
    "    (-1, -1) : 0.1,\n",
    "    (0, -1) : 0.2,\n",
    "    (-1, 1): 0.2,\n",
    "    (0, -1): 0.5\n",
    "}\n",
    "\n",
    "```\n",
    "\n",
    "#### INDEPENDENT JOINT DISTRIBUTIONS\n",
    "\n",
    "We had mentioned earlier that independent random variables can be used to generate a joint distribution. In `pystochastica`, this means a list of `RandVar` objects can be used to generate arguements to *initialise* a `JointDistribution` object. We can do this with the `generate_jdist` function. See the code block below for an example."
   ]
  },
  {
   "cell_type": "code",
   "execution_count": 2,
   "id": "f156f5d5-7c44-4c96-854a-3371ff8b21a2",
   "metadata": {},
   "outputs": [
    {
     "name": "stdout",
     "output_type": "stream",
     "text": [
      "Joint Probability Distribution (X, Y)\n",
      "(X, Decimal('-1.0')) AND (Y, Decimal('-1.0'))\tprobability = Decimal('0.148')\n",
      "(X, Decimal('-1.0')) AND (Y, Decimal('1.0'))\tprobability = Decimal('0.222')\n",
      "(X, Decimal('0.0')) AND (Y, Decimal('-1.0'))\tprobability = Decimal('0.08')\n",
      "(X, Decimal('0.0')) AND (Y, Decimal('1.0'))\tprobability = Decimal('0.12')\n",
      "(X, Decimal('1.0')) AND (Y, Decimal('-1.0'))\tprobability = Decimal('0.172')\n",
      "(X, Decimal('1.0')) AND (Y, Decimal('1.0'))\tprobability = Decimal('0.258')\n"
     ]
    }
   ],
   "source": [
    "# initialise random variables through RandVar\n",
    "\n",
    "X_init = {\n",
    "    'name': 'X', \n",
    "    'pspace': {\n",
    "        '-1': 0.37,\n",
    "        '0': 0.2,\n",
    "        '1': 0.43\n",
    "    }}\n",
    "X = rvar(**rvdict_to_init(X_init))\n",
    "\n",
    "Y_init = {\n",
    "    'name': 'Y', \n",
    "    'pspace': {\n",
    "        '-1': 0.4,\n",
    "        '1': 0.6\n",
    "    }}\n",
    "Y = rvar(**rvdict_to_init(Y_init))\n",
    "\n",
    "jd_XY = jd(pspace=generate_jdist(X, Y))\n",
    "print(jd_XY)"
   ]
  },
  {
   "cell_type": "markdown",
   "id": "f63972fd-0c13-48ea-b1e5-d57196e5f7fd",
   "metadata": {},
   "source": [
    "#### RANDOM JOINT DISTRIBUTION\n",
    "\n",
    "The distribution `jd_XY` above is the product distribution, having been generated from `RandVar` objects `X` and `Y`, i.e., *a priori* independent random variables. Accordingly, we would say the marginals of this distribution are independent.\n",
    "\n",
    "The utility function `generate_jdist_random` can be used to generate a random joint distributions where the marginal are almost surely dependent, demonstrated below.\n",
    "\n",
    "**Note.** *Any arguments passed to `generate_jdist_random` are optional. Arguments can be passed in order to get some control over the joint distribution generated, such as the total number marginals (dimension) and number of samples for each marginal.* \n",
    "\n",
    "**Note.** *When calling `generate_jdist_random`, the probabilities are stored as `Fraction` type objects instead of `Decimal` type objects. This is due to how the probability generater is written in `generate_jdist_random`.*\n"
   ]
  },
  {
   "cell_type": "code",
   "execution_count": 3,
   "id": "548189e1-678d-499c-b748-b61c4ba496fb",
   "metadata": {},
   "outputs": [
    {
     "name": "stdout",
     "output_type": "stream",
     "text": [
      "Joint Probability Distribution (X_0, X_1, X_2)\n",
      "(X_0, Decimal('35.06263245956475')) AND (X_1, Decimal('-29.061440632750923')) AND (X_2, Decimal('-7.407622409860281'))\tprobability = Fraction(1, 84)\n",
      "(X_0, Decimal('35.06263245956475')) AND (X_1, Decimal('-29.061440632750923')) AND (X_2, Decimal('36.05727553517593'))\tprobability = Fraction(1, 2184)\n",
      "(X_0, Decimal('35.06263245956475')) AND (X_1, Decimal('-29.061440632750923')) AND (X_2, Decimal('34.762536589074074'))\tprobability = Fraction(1, 156)\n",
      "(X_0, Decimal('35.06263245956475')) AND (X_1, Decimal('23.358133552960695')) AND (X_2, Decimal('-7.407622409860281'))\tprobability = Fraction(5, 1092)\n",
      "(X_0, Decimal('35.06263245956475')) AND (X_1, Decimal('23.358133552960695')) AND (X_2, Decimal('36.05727553517593'))\tprobability = Fraction(11, 364)\n",
      "(X_0, Decimal('35.06263245956475')) AND (X_1, Decimal('23.358133552960695')) AND (X_2, Decimal('34.762536589074074'))\tprobability = Fraction(19, 728)\n",
      "(X_0, Decimal('35.06263245956475')) AND (X_1, Decimal('-39.121096376536954')) AND (X_2, Decimal('-7.407622409860281'))\tprobability = Fraction(11, 312)\n",
      "(X_0, Decimal('35.06263245956475')) AND (X_1, Decimal('-39.121096376536954')) AND (X_2, Decimal('36.05727553517593'))\tprobability = Fraction(23, 1092)\n",
      "(X_0, Decimal('35.06263245956475')) AND (X_1, Decimal('-39.121096376536954')) AND (X_2, Decimal('34.762536589074074'))\tprobability = Fraction(47, 1092)\n",
      "(X_0, Decimal('-42.94540456834039')) AND (X_1, Decimal('-29.061440632750923')) AND (X_2, Decimal('-7.407622409860281'))\tprobability = Fraction(5, 156)\n",
      "(X_0, Decimal('-42.94540456834039')) AND (X_1, Decimal('-29.061440632750923')) AND (X_2, Decimal('36.05727553517593'))\tprobability = Fraction(53, 2184)\n",
      "(X_0, Decimal('-42.94540456834039')) AND (X_1, Decimal('-29.061440632750923')) AND (X_2, Decimal('34.762536589074074'))\tprobability = Fraction(1, 42)\n",
      "(X_0, Decimal('-42.94540456834039')) AND (X_1, Decimal('23.358133552960695')) AND (X_2, Decimal('-7.407622409860281'))\tprobability = Fraction(11, 728)\n",
      "(X_0, Decimal('-42.94540456834039')) AND (X_1, Decimal('23.358133552960695')) AND (X_2, Decimal('36.05727553517593'))\tprobability = Fraction(67, 2184)\n",
      "(X_0, Decimal('-42.94540456834039')) AND (X_1, Decimal('23.358133552960695')) AND (X_2, Decimal('34.762536589074074'))\tprobability = Fraction(11, 728)\n",
      "(X_0, Decimal('-42.94540456834039')) AND (X_1, Decimal('-39.121096376536954')) AND (X_2, Decimal('-7.407622409860281'))\tprobability = Fraction(55, 2184)\n",
      "(X_0, Decimal('-42.94540456834039')) AND (X_1, Decimal('-39.121096376536954')) AND (X_2, Decimal('36.05727553517593'))\tprobability = Fraction(5, 728)\n",
      "(X_0, Decimal('-42.94540456834039')) AND (X_1, Decimal('-39.121096376536954')) AND (X_2, Decimal('34.762536589074074'))\tprobability = Fraction(95, 2184)\n",
      "(X_0, Decimal('0.5990604136763338')) AND (X_1, Decimal('-29.061440632750923')) AND (X_2, Decimal('-7.407622409860281'))\tprobability = Fraction(23, 546)\n",
      "(X_0, Decimal('0.5990604136763338')) AND (X_1, Decimal('-29.061440632750923')) AND (X_2, Decimal('36.05727553517593'))\tprobability = Fraction(85, 2184)\n",
      "(X_0, Decimal('0.5990604136763338')) AND (X_1, Decimal('-29.061440632750923')) AND (X_2, Decimal('34.762536589074074'))\tprobability = Fraction(41, 1092)\n",
      "(X_0, Decimal('0.5990604136763338')) AND (X_1, Decimal('23.358133552960695')) AND (X_2, Decimal('-7.407622409860281'))\tprobability = Fraction(9, 364)\n",
      "(X_0, Decimal('0.5990604136763338')) AND (X_1, Decimal('23.358133552960695')) AND (X_2, Decimal('36.05727553517593'))\tprobability = Fraction(1, 312)\n",
      "(X_0, Decimal('0.5990604136763338')) AND (X_1, Decimal('23.358133552960695')) AND (X_2, Decimal('34.762536589074074'))\tprobability = Fraction(3, 182)\n",
      "(X_0, Decimal('0.5990604136763338')) AND (X_1, Decimal('-39.121096376536954')) AND (X_2, Decimal('-7.407622409860281'))\tprobability = Fraction(5, 728)\n",
      "(X_0, Decimal('0.5990604136763338')) AND (X_1, Decimal('-39.121096376536954')) AND (X_2, Decimal('36.05727553517593'))\tprobability = Fraction(11, 2184)\n",
      "(X_0, Decimal('0.5990604136763338')) AND (X_1, Decimal('-39.121096376536954')) AND (X_2, Decimal('34.762536589074074'))\tprobability = Fraction(7, 312)\n",
      "(X_0, Decimal('-6.016426105437148')) AND (X_1, Decimal('-29.061440632750923')) AND (X_2, Decimal('-7.407622409860281'))\tprobability = Fraction(1, 364)\n",
      "(X_0, Decimal('-6.016426105437148')) AND (X_1, Decimal('-29.061440632750923')) AND (X_2, Decimal('36.05727553517593'))\tprobability = Fraction(25, 728)\n",
      "(X_0, Decimal('-6.016426105437148')) AND (X_1, Decimal('-29.061440632750923')) AND (X_2, Decimal('34.762536589074074'))\tprobability = Fraction(19, 1092)\n",
      "(X_0, Decimal('-6.016426105437148')) AND (X_1, Decimal('23.358133552960695')) AND (X_2, Decimal('-7.407622409860281'))\tprobability = Fraction(11, 728)\n",
      "(X_0, Decimal('-6.016426105437148')) AND (X_1, Decimal('23.358133552960695')) AND (X_2, Decimal('36.05727553517593'))\tprobability = Fraction(25, 1092)\n",
      "(X_0, Decimal('-6.016426105437148')) AND (X_1, Decimal('23.358133552960695')) AND (X_2, Decimal('34.762536589074074'))\tprobability = Fraction(5, 2184)\n",
      "(X_0, Decimal('-6.016426105437148')) AND (X_1, Decimal('-39.121096376536954')) AND (X_2, Decimal('-7.407622409860281'))\tprobability = Fraction(5, 2184)\n",
      "(X_0, Decimal('-6.016426105437148')) AND (X_1, Decimal('-39.121096376536954')) AND (X_2, Decimal('36.05727553517593'))\tprobability = Fraction(71, 2184)\n",
      "(X_0, Decimal('-6.016426105437148')) AND (X_1, Decimal('-39.121096376536954')) AND (X_2, Decimal('34.762536589074074'))\tprobability = Fraction(1, 182)\n",
      "(X_0, Decimal('-9.630876999838591')) AND (X_1, Decimal('-29.061440632750923')) AND (X_2, Decimal('-7.407622409860281'))\tprobability = Fraction(1, 24)\n",
      "(X_0, Decimal('-9.630876999838591')) AND (X_1, Decimal('-29.061440632750923')) AND (X_2, Decimal('36.05727553517593'))\tprobability = Fraction(85, 2184)\n",
      "(X_0, Decimal('-9.630876999838591')) AND (X_1, Decimal('-29.061440632750923')) AND (X_2, Decimal('34.762536589074074'))\tprobability = Fraction(1, 28)\n",
      "(X_0, Decimal('-9.630876999838591')) AND (X_1, Decimal('23.358133552960695')) AND (X_2, Decimal('-7.407622409860281'))\tprobability = Fraction(55, 2184)\n",
      "(X_0, Decimal('-9.630876999838591')) AND (X_1, Decimal('23.358133552960695')) AND (X_2, Decimal('36.05727553517593'))\tprobability = Fraction(41, 1092)\n",
      "(X_0, Decimal('-9.630876999838591')) AND (X_1, Decimal('23.358133552960695')) AND (X_2, Decimal('34.762536589074074'))\tprobability = Fraction(1, 1092)\n",
      "(X_0, Decimal('-9.630876999838591')) AND (X_1, Decimal('-39.121096376536954')) AND (X_2, Decimal('-7.407622409860281'))\tprobability = Fraction(1, 26)\n",
      "(X_0, Decimal('-9.630876999838591')) AND (X_1, Decimal('-39.121096376536954')) AND (X_2, Decimal('36.05727553517593'))\tprobability = Fraction(5, 546)\n",
      "(X_0, Decimal('-9.630876999838591')) AND (X_1, Decimal('-39.121096376536954')) AND (X_2, Decimal('34.762536589074074'))\tprobability = Fraction(97, 2184)\n"
     ]
    }
   ],
   "source": [
    "jd_rand = jd(pspace=generate_jdist_random())\n",
    "print(jd_rand)"
   ]
  },
  {
   "cell_type": "markdown",
   "id": "809b4fb8-1dab-4eab-8563-afc945249055",
   "metadata": {},
   "source": [
    "#### MARGINALS AND SECONDARIES\n",
    "\n",
    "Marginals and secondaries of a joint distribution are random variables derived by looking at the distribution after setting all-but-one or all-but-two values constant respectively. \n",
    "\n",
    "**Remark.** *If the joint distribution is just the product distribution of random variables, say `X` and `Y`, the marginals are just these variables again `[X, Y]` while secondaries coincide with the product variable `XY`.*\n",
    "\n",
    "The properties `margs` and `secnds` on the `JointDistribution` object return the marginals and secondaries respectively. To illustrate for `jd_rand` above, its marginals and secondaries are:\n"
   ]
  },
  {
   "cell_type": "code",
   "execution_count": 4,
   "id": "d9069b46-7988-4906-a2fa-f8c5d85109e7",
   "metadata": {},
   "outputs": [
    {
     "name": "stdout",
     "output_type": "stream",
     "text": [
      "Random variable X_0\n",
      "(X_0, Decimal('35.06263245956475'))\tprobability = Fraction(391, 2184)\n",
      "(X_0, Decimal('-42.94540456834039'))\tprobability = Fraction(473, 2184)\n",
      "(X_0, Decimal('0.5990604136763338'))\tprobability = Fraction(431, 2184)\n",
      "(X_0, Decimal('-6.016426105437148'))\tprobability = Fraction(295, 2184)\n",
      "(X_0, Decimal('-9.630876999838591'))\tprobability = Fraction(99, 364)\n",
      "Random variable X_1\n",
      "(X_1, Decimal('-29.061440632750923'))\tprobability = Fraction(106, 273)\n",
      "(X_1, Decimal('23.358133552960695'))\tprobability = Fraction(295, 1092)\n",
      "(X_1, Decimal('-39.121096376536954'))\tprobability = Fraction(373, 1092)\n",
      "Random variable X_2\n",
      "(X_2, Decimal('-7.407622409860281'))\tprobability = Fraction(353, 1092)\n",
      "(X_2, Decimal('36.05727553517593'))\tprobability = Fraction(367, 1092)\n",
      "(X_2, Decimal('34.762536589074074'))\tprobability = Fraction(31, 91)\n",
      "\n",
      "\n",
      "Random variable X_0*X_1\n",
      "(X_0*X_1, Decimal('-1018.970611651606459839355741'))\tprobability = Fraction(41, 2184)\n",
      "(X_0*X_1, Decimal('818.9976517088881659822335575'))\tprobability = Fraction(19, 312)\n",
      "(X_0*X_1, Decimal('-1371.688623665725528512039131'))\tprobability = Fraction(31, 312)\n",
      "(X_0*X_1, Decimal('1248.055325312294522787398351'))\tprobability = Fraction(25, 312)\n",
      "(X_0*X_1, Decimal('-1003.124495393223176057547051'))\tprobability = Fraction(19, 312)\n",
      "(X_0*X_1, Decimal('1680.071311047414782328015286'))\tprobability = Fraction(55, 728)\n",
      "(X_0*X_1, Decimal('-17.40955864748598383513403521'))\tprobability = Fraction(37, 312)\n",
      "(X_0*X_1, Decimal('13.99293314894368654624844310'))\tprobability = Fraction(97, 2184)\n",
      "(X_0*X_1, Decimal('-23.43590017879995094551147094'))\tprobability = Fraction(25, 728)\n",
      "(X_0*X_1, Decimal('174.8460100844945217497707155'))\tprobability = Fraction(17, 312)\n",
      "(X_0*X_1, Decimal('-140.5324844823200868033526369'))\tprobability = Fraction(11, 273)\n",
      "(X_0*X_1, Decimal('235.3691855131195485815945464'))\tprobability = Fraction(11, 273)\n",
      "(X_0*X_1, Decimal('279.8871601721355329783793063'))\tprobability = Fraction(127, 1092)\n",
      "(X_0*X_1, Decimal('-224.9593111943672264008651672'))\tprobability = Fraction(139, 2184)\n",
      "(X_0*X_1, Decimal('376.7704673012585928836175468'))\tprobability = Fraction(67, 728)\n",
      "Random variable X_0*X_2\n",
      "(X_0*X_2, Decimal('-259.7307419561663450014295727'))\tprobability = Fraction(113, 2184)\n",
      "(X_0*X_2, Decimal('1264.262999583129505852002476'))\tprobability = Fraction(113, 2184)\n",
      "(X_0*X_2, Decimal('1218.866043784875914326447549'))\tprobability = Fraction(55, 728)\n",
      "(X_0*X_2, Decimal('318.1233412809543604912559490'))\tprobability = Fraction(79, 1092)\n",
      "(X_0*X_2, Decimal('-1548.494285490252564925066775'))\tprobability = Fraction(45, 728)\n",
      "(X_0*X_2, Decimal('-1492.891197639521696279524956'))\tprobability = Fraction(15, 182)\n",
      "(X_0*X_2, Decimal('-4.437613345208980621582014318'))\tprobability = Fraction(23, 312)\n",
      "(X_0*X_2, Decimal('21.60048639814404283381166041'))\tprobability = Fraction(103, 2184)\n",
      "(X_0*X_2, Decimal('20.82485954948940452696006895'))\tprobability = Fraction(167, 2184)\n",
      "(X_0*X_2, Decimal('44.56741284590463133226110712'))\tprobability = Fraction(11, 546)\n",
      "(X_0*X_2, Decimal('-216.9359338207726769053037374'))\tprobability = Fraction(7, 78)\n",
      "(X_0*X_2, Decimal('-209.1462326257192899371423233'))\tprobability = Fraction(55, 2184)\n",
      "(X_0*X_2, Decimal('71.34190029061229657088386190'))\tprobability = Fraction(115, 1092)\n",
      "(X_0*X_2, Decimal('-347.2631856285685864037527883'))\tprobability = Fraction(187, 2184)\n",
      "(X_0*X_2, Decimal('-334.7937140917609643145921428'))\tprobability = Fraction(59, 728)\n",
      "Random variable X_1*X_2\n",
      "(X_1*X_2, Decimal('215.2761788939898817392171038'))\tprobability = Fraction(95, 728)\n",
      "(X_1*X_2, Decimal('-1047.876372344257554887088675'))\tprobability = Fraction(23, 168)\n",
      "(X_1*X_2, Decimal('-1010.249393327207969664452039'))\tprobability = Fraction(11, 91)\n",
      "(X_1*X_2, Decimal('-173.0282335594209910692888347'))\tprobability = Fraction(185, 2184)\n",
      "(X_1*X_2, Decimal('842.2306575065416910760692001'))\tprobability = Fraction(34, 273)\n",
      "(X_1*X_2, Decimal('811.9879722872749596011713655'))\tprobability = Fraction(19, 312)\n",
      "(X_1*X_2, Decimal('289.7943102171389781789057733'))\tprobability = Fraction(59, 546)\n",
      "(X_1*X_2, Decimal('-1410.600151286965633973144536'))\tprobability = Fraction(163, 2184)\n",
      "(X_1*X_2, Decimal('-1359.948544194059040628605504'))\tprobability = Fraction(347, 2184)\n"
     ]
    }
   ],
   "source": [
    "for marg in jd_rand.margs:\n",
    "    print(marg)\n",
    "print('\\n')\n",
    "for scnd in jd_rand.secnds:\n",
    "    print(scnd)"
   ]
  },
  {
   "cell_type": "markdown",
   "id": "cb5221d2-e21a-436b-b7ea-1d104ff2b0cf",
   "metadata": {},
   "source": [
    "### RANDOM VECTORS\n",
    "\n",
    "Random vectors in `pystochastica` are represented through the `RandVec` class. These are initialised with a `pspace` dict which can be obtained from the `pspace` attribute in the `JointDistribution` object.\n",
    "\n",
    "We initialise a random vector with `jd_rand` below. \n",
    "\n",
    "**Note.** *On random vectors it is more appropriate to call `.componnts` to get a list of its components as random variables, i.e., `RandVar` objects. These are precisely the marginals of the underlying joint distribution. Accordingly, calling `.components` is equivalent to calling `.margs` on the underlying `JointDistribution` object.*\n"
   ]
  },
  {
   "cell_type": "code",
   "execution_count": 5,
   "id": "742b2384-4052-4d4b-bd33-32005824f734",
   "metadata": {},
   "outputs": [],
   "source": [
    "random_vec = rvec(pspace=jd_rand.pspace)"
   ]
  },
  {
   "cell_type": "markdown",
   "id": "0dd7afef-91ac-4d9c-a92f-dd793d62772b",
   "metadata": {},
   "source": [
    "#### EXPECTATION AND COVARIANCE\n",
    "\n",
    "Just as with `RandVar`, the expectation vector and covariance matrix can be obtained by passed `.E` and `.V` as follows."
   ]
  },
  {
   "cell_type": "code",
   "execution_count": 6,
   "id": "202ad0d2-0eb9-4006-8e33-9cffef69566a",
   "metadata": {},
   "outputs": [
    {
     "data": {
      "text/plain": [
       "(array([ -6.33749023, -18.33660291,  21.56574453]),\n",
       " array([[609.5509684 ,   8.10242571,  14.08109565],\n",
       "        [  8.10242571, 661.85590331,   7.60606503],\n",
       "        [ 14.08109565,   7.60606503, 401.26866777]]))"
      ]
     },
     "execution_count": 6,
     "metadata": {},
     "output_type": "execute_result"
    }
   ],
   "source": [
    "random_vec.E, random_vec.V"
   ]
  },
  {
   "cell_type": "markdown",
   "id": "5795e367-0228-41b3-a33f-14d94e287783",
   "metadata": {},
   "source": [
    "To compare, recall `jd_XY` from earlier is the product distribution. This means the off-diagonal entires of its covariance matrix will be zero while the diagonal entries will be non-zero. This is demonstrated below.\n"
   ]
  },
  {
   "cell_type": "code",
   "execution_count": 7,
   "id": "fbbb6f64-36e2-45b6-bc5a-f3e5d6c908ff",
   "metadata": {},
   "outputs": [
    {
     "data": {
      "text/plain": [
       "array([[0.7964, 0.    ],\n",
       "       [0.    , 0.96  ]])"
      ]
     },
     "execution_count": 7,
     "metadata": {},
     "output_type": "execute_result"
    }
   ],
   "source": [
    "random_vec_indep = rvec(pspace=jd_XY.pspace)\n",
    "random_vec_indep.V"
   ]
  }
 ],
 "metadata": {
  "kernelspec": {
   "display_name": ".vpystochastica",
   "language": "python",
   "name": ".vpystochastica"
  },
  "language_info": {
   "codemirror_mode": {
    "name": "ipython",
    "version": 3
   },
   "file_extension": ".py",
   "mimetype": "text/x-python",
   "name": "python",
   "nbconvert_exporter": "python",
   "pygments_lexer": "ipython3",
   "version": "3.11.7"
  }
 },
 "nbformat": 4,
 "nbformat_minor": 5
}
